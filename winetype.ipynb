{
 "cells": [
  {
   "cell_type": "code",
   "execution_count": 1,
   "id": "365023ed",
   "metadata": {
    "_cell_guid": "b1076dfc-b9ad-4769-8c92-a6c4dae69d19",
    "_uuid": "8f2839f25d086af736a60e9eeb907d3b93b6e0e5",
    "execution": {
     "iopub.execute_input": "2024-06-03T15:20:02.653365Z",
     "iopub.status.busy": "2024-06-03T15:20:02.652946Z",
     "iopub.status.idle": "2024-06-03T15:20:03.767458Z",
     "shell.execute_reply": "2024-06-03T15:20:03.766170Z"
    },
    "papermill": {
     "duration": 1.128867,
     "end_time": "2024-06-03T15:20:03.770467",
     "exception": false,
     "start_time": "2024-06-03T15:20:02.641600",
     "status": "completed"
    },
    "tags": []
   },
   "outputs": [
    {
     "name": "stdout",
     "output_type": "stream",
     "text": [
      "/kaggle/input/wine-quality-uci-machine-learning-repository/winequality.names\n",
      "/kaggle/input/wine-quality-uci-machine-learning-repository/winequality-white.csv\n",
      "/kaggle/input/wine-quality-uci-machine-learning-repository/winequality-red.csv\n"
     ]
    }
   ],
   "source": [
    "# This Python 3 environment comes with many helpful analytics libraries installed\n",
    "# It is defined by the kaggle/python Docker image: https://github.com/kaggle/docker-python\n",
    "# For example, here's several helpful packages to load\n",
    "\n",
    "import numpy as np # linear algebra\n",
    "import pandas as pd # data processing, CSV file I/O (e.g. pd.read_csv)\n",
    "\n",
    "# Input data files are available in the read-only \"../input/\" directory\n",
    "# For example, running this (by clicking run or pressing Shift+Enter) will list all files under the input directory\n",
    "\n",
    "import os\n",
    "for dirname, _, filenames in os.walk('/kaggle/input'):\n",
    "    for filename in filenames:\n",
    "        print(os.path.join(dirname, filename))\n",
    "\n",
    "# You can write up to 20GB to the current directory (/kaggle/working/) that gets preserved as output when you create a version using \"Save & Run All\" \n",
    "# You can also write temporary files to /kaggle/temp/, but they won't be saved outside of the current session"
   ]
  },
  {
   "cell_type": "code",
   "execution_count": 2,
   "id": "379ae9a9",
   "metadata": {
    "execution": {
     "iopub.execute_input": "2024-06-03T15:20:03.792276Z",
     "iopub.status.busy": "2024-06-03T15:20:03.790773Z",
     "iopub.status.idle": "2024-06-03T15:20:03.837171Z",
     "shell.execute_reply": "2024-06-03T15:20:03.836124Z"
    },
    "papermill": {
     "duration": 0.060377,
     "end_time": "2024-06-03T15:20:03.840205",
     "exception": false,
     "start_time": "2024-06-03T15:20:03.779828",
     "status": "completed"
    },
    "tags": []
   },
   "outputs": [],
   "source": [
    "white_df = pd.read_csv('/kaggle/input/wine-quality-uci-machine-learning-repository/winequality-white.csv',sep=';')\n",
    "red_df = pd.read_csv('/kaggle/input/wine-quality-uci-machine-learning-repository/winequality-red.csv',sep=';')"
   ]
  },
  {
   "cell_type": "code",
   "execution_count": 3,
   "id": "1895d9f7",
   "metadata": {
    "execution": {
     "iopub.execute_input": "2024-06-03T15:20:03.861257Z",
     "iopub.status.busy": "2024-06-03T15:20:03.860518Z",
     "iopub.status.idle": "2024-06-03T15:20:03.865542Z",
     "shell.execute_reply": "2024-06-03T15:20:03.864436Z"
    },
    "papermill": {
     "duration": 0.018804,
     "end_time": "2024-06-03T15:20:03.868236",
     "exception": false,
     "start_time": "2024-06-03T15:20:03.849432",
     "status": "completed"
    },
    "tags": []
   },
   "outputs": [],
   "source": [
    "# white_df.describe()"
   ]
  },
  {
   "cell_type": "code",
   "execution_count": 4,
   "id": "a89adddf",
   "metadata": {
    "execution": {
     "iopub.execute_input": "2024-06-03T15:20:03.889539Z",
     "iopub.status.busy": "2024-06-03T15:20:03.889034Z",
     "iopub.status.idle": "2024-06-03T15:20:03.894339Z",
     "shell.execute_reply": "2024-06-03T15:20:03.892817Z"
    },
    "papermill": {
     "duration": 0.018975,
     "end_time": "2024-06-03T15:20:03.896916",
     "exception": false,
     "start_time": "2024-06-03T15:20:03.877941",
     "status": "completed"
    },
    "tags": []
   },
   "outputs": [],
   "source": [
    "# red_df.describe()"
   ]
  },
  {
   "cell_type": "code",
   "execution_count": 5,
   "id": "ce8e4f27",
   "metadata": {
    "execution": {
     "iopub.execute_input": "2024-06-03T15:20:03.920317Z",
     "iopub.status.busy": "2024-06-03T15:20:03.919492Z",
     "iopub.status.idle": "2024-06-03T15:20:03.923886Z",
     "shell.execute_reply": "2024-06-03T15:20:03.923002Z"
    },
    "papermill": {
     "duration": 0.019867,
     "end_time": "2024-06-03T15:20:03.926209",
     "exception": false,
     "start_time": "2024-06-03T15:20:03.906342",
     "status": "completed"
    },
    "tags": []
   },
   "outputs": [],
   "source": [
    "# red_df.sample(5)"
   ]
  },
  {
   "cell_type": "code",
   "execution_count": 6,
   "id": "75d43592",
   "metadata": {
    "execution": {
     "iopub.execute_input": "2024-06-03T15:20:03.946812Z",
     "iopub.status.busy": "2024-06-03T15:20:03.945952Z",
     "iopub.status.idle": "2024-06-03T15:20:03.950315Z",
     "shell.execute_reply": "2024-06-03T15:20:03.949336Z"
    },
    "papermill": {
     "duration": 0.017611,
     "end_time": "2024-06-03T15:20:03.952911",
     "exception": false,
     "start_time": "2024-06-03T15:20:03.935300",
     "status": "completed"
    },
    "tags": []
   },
   "outputs": [],
   "source": [
    "# white_df.head()"
   ]
  },
  {
   "cell_type": "code",
   "execution_count": 7,
   "id": "b26e328f",
   "metadata": {
    "execution": {
     "iopub.execute_input": "2024-06-03T15:20:03.974158Z",
     "iopub.status.busy": "2024-06-03T15:20:03.973625Z",
     "iopub.status.idle": "2024-06-03T15:20:03.978840Z",
     "shell.execute_reply": "2024-06-03T15:20:03.977412Z"
    },
    "papermill": {
     "duration": 0.018714,
     "end_time": "2024-06-03T15:20:03.981248",
     "exception": false,
     "start_time": "2024-06-03T15:20:03.962534",
     "status": "completed"
    },
    "tags": []
   },
   "outputs": [],
   "source": [
    "# pd.isnull('white_df')\n",
    "# pd.isnull('red_df')"
   ]
  },
  {
   "cell_type": "code",
   "execution_count": 8,
   "id": "60b7e21a",
   "metadata": {
    "execution": {
     "iopub.execute_input": "2024-06-03T15:20:04.002510Z",
     "iopub.status.busy": "2024-06-03T15:20:04.001572Z",
     "iopub.status.idle": "2024-06-03T15:20:04.460381Z",
     "shell.execute_reply": "2024-06-03T15:20:04.459380Z"
    },
    "papermill": {
     "duration": 0.472218,
     "end_time": "2024-06-03T15:20:04.462626",
     "exception": false,
     "start_time": "2024-06-03T15:20:03.990408",
     "status": "completed"
    },
    "tags": []
   },
   "outputs": [
    {
     "data": {
      "image/png": "[encoded data removed]",
      "text/plain": [
       "<Figure size 640x480 with 2 Axes>"
      ]
     },
     "metadata": {},
     "output_type": "display_data"
    }
   ],
   "source": [
    "import matplotlib.pyplot as plt\n",
    "fig,axis = plt.subplots(1,2)\n",
    "axis[0].hist(red_df.alcohol, label='Red Wine')\n",
    "axis[0].set_xlabel('Alcohol in %Vol')\n",
    "axis[0].set_ylabel('Frequency')\n",
    "axis[0].set_ylim([0,1000])\n",
    "\n",
    "axis[1].hist(white_df.alcohol,label = 'White Wine')\n",
    "axis[1].set_xlabel('Alcohol in %Vol')\n",
    "axis[1].set_ylabel('Frequency')\n",
    "axis[1].set_ylim([0,1000])\n",
    "fig.suptitle('Distribution of Alcohol in % Vol')\n",
    "plt.show()"
   ]
  },
  {
   "cell_type": "code",
   "execution_count": 9,
   "id": "39b19dbd",
   "metadata": {
    "execution": {
     "iopub.execute_input": "2024-06-03T15:20:04.486652Z",
     "iopub.status.busy": "2024-06-03T15:20:04.485765Z",
     "iopub.status.idle": "2024-06-03T15:20:04.491783Z",
     "shell.execute_reply": "2024-06-03T15:20:04.490463Z"
    },
    "papermill": {
     "duration": 0.021725,
     "end_time": "2024-06-03T15:20:04.494325",
     "exception": false,
     "start_time": "2024-06-03T15:20:04.472600",
     "status": "completed"
    },
    "tags": []
   },
   "outputs": [],
   "source": [
    "# import seaborn as sns\n",
    "# sns.pairplot(data = red_df, diag_kind = 'auto')"
   ]
  },
  {
   "cell_type": "code",
   "execution_count": 10,
   "id": "37b4ca52",
   "metadata": {
    "execution": {
     "iopub.execute_input": "2024-06-03T15:20:04.515171Z",
     "iopub.status.busy": "2024-06-03T15:20:04.514689Z",
     "iopub.status.idle": "2024-06-03T15:20:04.526334Z",
     "shell.execute_reply": "2024-06-03T15:20:04.525182Z"
    },
    "papermill": {
     "duration": 0.025346,
     "end_time": "2024-06-03T15:20:04.529073",
     "exception": false,
     "start_time": "2024-06-03T15:20:04.503727",
     "status": "completed"
    },
    "tags": []
   },
   "outputs": [
    {
     "data": {
      "text/plain": [
       "pandas.core.frame.DataFrame"
      ]
     },
     "execution_count": 10,
     "metadata": {},
     "output_type": "execute_result"
    }
   ],
   "source": [
    "red_df['type'] = 1\n",
    "white_df['type'] = 0\n",
    "wines_df = pd.concat([red_df, white_df], ignore_index=True)\n",
    "wines_df\n",
    "type(wines_df)"
   ]
  },
  {
   "cell_type": "code",
   "execution_count": 11,
   "id": "1b426e3d",
   "metadata": {
    "execution": {
     "iopub.execute_input": "2024-06-03T15:20:04.549933Z",
     "iopub.status.busy": "2024-06-03T15:20:04.549299Z",
     "iopub.status.idle": "2024-06-03T15:20:06.172176Z",
     "shell.execute_reply": "2024-06-03T15:20:06.170850Z"
    },
    "papermill": {
     "duration": 1.636974,
     "end_time": "2024-06-03T15:20:06.175377",
     "exception": false,
     "start_time": "2024-06-03T15:20:04.538403",
     "status": "completed"
    },
    "tags": []
   },
   "outputs": [
    {
     "data": {
      "text/html": [
       "<div>\n",
       "<style scoped>\n",
       "    .dataframe tbody tr th:only-of-type {\n",
       "        vertical-align: middle;\n",
       "    }\n",
       "\n",
       "    .dataframe tbody tr th {\n",
       "        vertical-align: top;\n",
       "    }\n",
       "\n",
       "    .dataframe thead th {\n",
       "        text-align: right;\n",
       "    }\n",
       "</style>\n",
       "<table border=\"1\" class=\"dataframe\">\n",
       "  <thead>\n",
       "    <tr style=\"text-align: right;\">\n",
       "      <th></th>\n",
       "      <th>fixed acidity</th>\n",
       "      <th>volatile acidity</th>\n",
       "      <th>citric acid</th>\n",
       "      <th>residual sugar</th>\n",
       "      <th>chlorides</th>\n",
       "      <th>free sulfur dioxide</th>\n",
       "      <th>total sulfur dioxide</th>\n",
       "      <th>density</th>\n",
       "      <th>pH</th>\n",
       "      <th>sulphates</th>\n",
       "      <th>alcohol</th>\n",
       "    </tr>\n",
       "  </thead>\n",
       "  <tbody>\n",
       "    <tr>\n",
       "      <th>0</th>\n",
       "      <td>7.4</td>\n",
       "      <td>0.70</td>\n",
       "      <td>0.00</td>\n",
       "      <td>1.9</td>\n",
       "      <td>0.076</td>\n",
       "      <td>11.0</td>\n",
       "      <td>34.0</td>\n",
       "      <td>0.99780</td>\n",
       "      <td>3.51</td>\n",
       "      <td>0.56</td>\n",
       "      <td>9.4</td>\n",
       "    </tr>\n",
       "    <tr>\n",
       "      <th>1</th>\n",
       "      <td>7.8</td>\n",
       "      <td>0.88</td>\n",
       "      <td>0.00</td>\n",
       "      <td>2.6</td>\n",
       "      <td>0.098</td>\n",
       "      <td>25.0</td>\n",
       "      <td>67.0</td>\n",
       "      <td>0.99680</td>\n",
       "      <td>3.20</td>\n",
       "      <td>0.68</td>\n",
       "      <td>9.8</td>\n",
       "    </tr>\n",
       "    <tr>\n",
       "      <th>2</th>\n",
       "      <td>7.8</td>\n",
       "      <td>0.76</td>\n",
       "      <td>0.04</td>\n",
       "      <td>2.3</td>\n",
       "      <td>0.092</td>\n",
       "      <td>15.0</td>\n",
       "      <td>54.0</td>\n",
       "      <td>0.99700</td>\n",
       "      <td>3.26</td>\n",
       "      <td>0.65</td>\n",
       "      <td>9.8</td>\n",
       "    </tr>\n",
       "    <tr>\n",
       "      <th>3</th>\n",
       "      <td>11.2</td>\n",
       "      <td>0.28</td>\n",
       "      <td>0.56</td>\n",
       "      <td>1.9</td>\n",
       "      <td>0.075</td>\n",
       "      <td>17.0</td>\n",
       "      <td>60.0</td>\n",
       "      <td>0.99800</td>\n",
       "      <td>3.16</td>\n",
       "      <td>0.58</td>\n",
       "      <td>9.8</td>\n",
       "    </tr>\n",
       "    <tr>\n",
       "      <th>4</th>\n",
       "      <td>7.4</td>\n",
       "      <td>0.70</td>\n",
       "      <td>0.00</td>\n",
       "      <td>1.9</td>\n",
       "      <td>0.076</td>\n",
       "      <td>11.0</td>\n",
       "      <td>34.0</td>\n",
       "      <td>0.99780</td>\n",
       "      <td>3.51</td>\n",
       "      <td>0.56</td>\n",
       "      <td>9.4</td>\n",
       "    </tr>\n",
       "    <tr>\n",
       "      <th>...</th>\n",
       "      <td>...</td>\n",
       "      <td>...</td>\n",
       "      <td>...</td>\n",
       "      <td>...</td>\n",
       "      <td>...</td>\n",
       "      <td>...</td>\n",
       "      <td>...</td>\n",
       "      <td>...</td>\n",
       "      <td>...</td>\n",
       "      <td>...</td>\n",
       "      <td>...</td>\n",
       "    </tr>\n",
       "    <tr>\n",
       "      <th>6492</th>\n",
       "      <td>6.2</td>\n",
       "      <td>0.21</td>\n",
       "      <td>0.29</td>\n",
       "      <td>1.6</td>\n",
       "      <td>0.039</td>\n",
       "      <td>24.0</td>\n",
       "      <td>92.0</td>\n",
       "      <td>0.99114</td>\n",
       "      <td>3.27</td>\n",
       "      <td>0.50</td>\n",
       "      <td>11.2</td>\n",
       "    </tr>\n",
       "    <tr>\n",
       "      <th>6493</th>\n",
       "      <td>6.6</td>\n",
       "      <td>0.32</td>\n",
       "      <td>0.36</td>\n",
       "      <td>8.0</td>\n",
       "      <td>0.047</td>\n",
       "      <td>57.0</td>\n",
       "      <td>168.0</td>\n",
       "      <td>0.99490</td>\n",
       "      <td>3.15</td>\n",
       "      <td>0.46</td>\n",
       "      <td>9.6</td>\n",
       "    </tr>\n",
       "    <tr>\n",
       "      <th>6494</th>\n",
       "      <td>6.5</td>\n",
       "      <td>0.24</td>\n",
       "      <td>0.19</td>\n",
       "      <td>1.2</td>\n",
       "      <td>0.041</td>\n",
       "      <td>30.0</td>\n",
       "      <td>111.0</td>\n",
       "      <td>0.99254</td>\n",
       "      <td>2.99</td>\n",
       "      <td>0.46</td>\n",
       "      <td>9.4</td>\n",
       "    </tr>\n",
       "    <tr>\n",
       "      <th>6495</th>\n",
       "      <td>5.5</td>\n",
       "      <td>0.29</td>\n",
       "      <td>0.30</td>\n",
       "      <td>1.1</td>\n",
       "      <td>0.022</td>\n",
       "      <td>20.0</td>\n",
       "      <td>110.0</td>\n",
       "      <td>0.98869</td>\n",
       "      <td>3.34</td>\n",
       "      <td>0.38</td>\n",
       "      <td>12.8</td>\n",
       "    </tr>\n",
       "    <tr>\n",
       "      <th>6496</th>\n",
       "      <td>6.0</td>\n",
       "      <td>0.21</td>\n",
       "      <td>0.38</td>\n",
       "      <td>0.8</td>\n",
       "      <td>0.020</td>\n",
       "      <td>22.0</td>\n",
       "      <td>98.0</td>\n",
       "      <td>0.98941</td>\n",
       "      <td>3.26</td>\n",
       "      <td>0.32</td>\n",
       "      <td>11.8</td>\n",
       "    </tr>\n",
       "  </tbody>\n",
       "</table>\n",
       "<p>6497 rows × 11 columns</p>\n",
       "</div>"
      ],
      "text/plain": [
       "      fixed acidity  volatile acidity  citric acid  residual sugar  chlorides  \\\n",
       "0               7.4              0.70         0.00             1.9      0.076   \n",
       "1               7.8              0.88         0.00             2.6      0.098   \n",
       "2               7.8              0.76         0.04             2.3      0.092   \n",
       "3              11.2              0.28         0.56             1.9      0.075   \n",
       "4               7.4              0.70         0.00             1.9      0.076   \n",
       "...             ...               ...          ...             ...        ...   \n",
       "6492            6.2              0.21         0.29             1.6      0.039   \n",
       "6493            6.6              0.32         0.36             8.0      0.047   \n",
       "6494            6.5              0.24         0.19             1.2      0.041   \n",
       "6495            5.5              0.29         0.30             1.1      0.022   \n",
       "6496            6.0              0.21         0.38             0.8      0.020   \n",
       "\n",
       "      free sulfur dioxide  total sulfur dioxide  density    pH  sulphates  \\\n",
       "0                    11.0                  34.0  0.99780  3.51       0.56   \n",
       "1                    25.0                  67.0  0.99680  3.20       0.68   \n",
       "2                    15.0                  54.0  0.99700  3.26       0.65   \n",
       "3                    17.0                  60.0  0.99800  3.16       0.58   \n",
       "4                    11.0                  34.0  0.99780  3.51       0.56   \n",
       "...                   ...                   ...      ...   ...        ...   \n",
       "6492                 24.0                  92.0  0.99114  3.27       0.50   \n",
       "6493                 57.0                 168.0  0.99490  3.15       0.46   \n",
       "6494                 30.0                 111.0  0.99254  2.99       0.46   \n",
       "6495                 20.0                 110.0  0.98869  3.34       0.38   \n",
       "6496                 22.0                  98.0  0.98941  3.26       0.32   \n",
       "\n",
       "      alcohol  \n",
       "0         9.4  \n",
       "1         9.8  \n",
       "2         9.8  \n",
       "3         9.8  \n",
       "4         9.4  \n",
       "...       ...  \n",
       "6492     11.2  \n",
       "6493      9.6  \n",
       "6494      9.4  \n",
       "6495     12.8  \n",
       "6496     11.8  \n",
       "\n",
       "[6497 rows x 11 columns]"
      ]
     },
     "execution_count": 11,
     "metadata": {},
     "output_type": "execute_result"
    }
   ],
   "source": [
    "# Data Splitting\n",
    "from sklearn.model_selection import train_test_split\n",
    "x = wines_df.iloc[:,0:11]\n",
    "x"
   ]
  },
  {
   "cell_type": "code",
   "execution_count": 12,
   "id": "43b087a5",
   "metadata": {
    "execution": {
     "iopub.execute_input": "2024-06-03T15:20:06.197483Z",
     "iopub.status.busy": "2024-06-03T15:20:06.196977Z",
     "iopub.status.idle": "2024-06-03T15:20:06.205077Z",
     "shell.execute_reply": "2024-06-03T15:20:06.203954Z"
    },
    "papermill": {
     "duration": 0.021972,
     "end_time": "2024-06-03T15:20:06.207603",
     "exception": false,
     "start_time": "2024-06-03T15:20:06.185631",
     "status": "completed"
    },
    "tags": []
   },
   "outputs": [
    {
     "data": {
      "text/plain": [
       "array([1, 1, 1, ..., 0, 0, 0])"
      ]
     },
     "execution_count": 12,
     "metadata": {},
     "output_type": "execute_result"
    }
   ],
   "source": [
    "y = np.ravel(wines_df.type)\n",
    "y"
   ]
  },
  {
   "cell_type": "code",
   "execution_count": 13,
   "id": "aa0abd27",
   "metadata": {
    "execution": {
     "iopub.execute_input": "2024-06-03T15:20:06.230094Z",
     "iopub.status.busy": "2024-06-03T15:20:06.229327Z",
     "iopub.status.idle": "2024-06-03T15:20:06.238347Z",
     "shell.execute_reply": "2024-06-03T15:20:06.237430Z"
    },
    "papermill": {
     "duration": 0.02254,
     "end_time": "2024-06-03T15:20:06.240654",
     "exception": false,
     "start_time": "2024-06-03T15:20:06.218114",
     "status": "completed"
    },
    "tags": []
   },
   "outputs": [],
   "source": [
    "x_train, x_test, y_train, y_test = train_test_split(x,y,test_size = 0.30, random_state = 40)"
   ]
  },
  {
   "cell_type": "code",
   "execution_count": 14,
   "id": "256974fa",
   "metadata": {
    "execution": {
     "iopub.execute_input": "2024-06-03T15:20:06.262677Z",
     "iopub.status.busy": "2024-06-03T15:20:06.261987Z",
     "iopub.status.idle": "2024-06-03T15:20:06.273655Z",
     "shell.execute_reply": "2024-06-03T15:20:06.272684Z"
    },
    "papermill": {
     "duration": 0.025518,
     "end_time": "2024-06-03T15:20:06.276206",
     "exception": false,
     "start_time": "2024-06-03T15:20:06.250688",
     "status": "completed"
    },
    "tags": []
   },
   "outputs": [],
   "source": [
    "from sklearn.preprocessing import StandardScaler\n",
    "scaler = StandardScaler().fit(x_train)\n",
    "x_train = scaler.transform(x_train)\n",
    "x_test = scaler.transform(x_test)"
   ]
  },
  {
   "cell_type": "code",
   "execution_count": 15,
   "id": "0eb20b6d",
   "metadata": {
    "execution": {
     "iopub.execute_input": "2024-06-03T15:20:06.298152Z",
     "iopub.status.busy": "2024-06-03T15:20:06.297448Z",
     "iopub.status.idle": "2024-06-03T15:20:21.804803Z",
     "shell.execute_reply": "2024-06-03T15:20:21.803402Z"
    },
    "papermill": {
     "duration": 15.521304,
     "end_time": "2024-06-03T15:20:21.807524",
     "exception": false,
     "start_time": "2024-06-03T15:20:06.286220",
     "status": "completed"
    },
    "tags": []
   },
   "outputs": [
    {
     "name": "stderr",
     "output_type": "stream",
     "text": [
      "2024-06-03 15:20:08.717280: E external/local_xla/xla/stream_executor/cuda/cuda_dnn.cc:9261] Unable to register cuDNN factory: Attempting to register factory for plugin cuDNN when one has already been registered\n",
      "2024-06-03 15:20:08.717420: E external/local_xla/xla/stream_executor/cuda/cuda_fft.cc:607] Unable to register cuFFT factory: Attempting to register factory for plugin cuFFT when one has already been registered\n",
      "2024-06-03 15:20:08.887244: E external/local_xla/xla/stream_executor/cuda/cuda_blas.cc:1515] Unable to register cuBLAS factory: Attempting to register factory for plugin cuBLAS when one has already been registered\n",
      "/opt/conda/lib/python3.10/site-packages/keras/src/layers/core/dense.py:87: UserWarning: Do not pass an `input_shape`/`input_dim` argument to a layer. When using Sequential models, prefer using an `Input(shape)` object as the first layer in the model instead.\n",
      "  super().__init__(activity_regularizer=activity_regularizer, **kwargs)\n"
     ]
    },
    {
     "data": {
      "text/html": [
       "<pre style=\"white-space:pre;overflow-x:auto;line-height:normal;font-family:Menlo,'DejaVu Sans Mono',consolas,'Courier New',monospace\"><span style=\"font-weight: bold\">Model: \"sequential\"</span>\n",
       "</pre>\n"
      ],
      "text/plain": [
       "\u001b[1mModel: \"sequential\"\u001b[0m\n"
      ]
     },
     "metadata": {},
     "output_type": "display_data"
    },
    {
     "data": {
      "text/html": [
       "<pre style=\"white-space:pre;overflow-x:auto;line-height:normal;font-family:Menlo,'DejaVu Sans Mono',consolas,'Courier New',monospace\">┏━━━━━━━━━━━━━━━━━━━━━━━━━━━━━━━━━┳━━━━━━━━━━━━━━━━━━━━━━━━┳━━━━━━━━━━━━━━━┓\n",
       "┃<span style=\"font-weight: bold\"> Layer (type)                    </span>┃<span style=\"font-weight: bold\"> Output Shape           </span>┃<span style=\"font-weight: bold\">       Param # </span>┃\n",
       "┡━━━━━━━━━━━━━━━━━━━━━━━━━━━━━━━━━╇━━━━━━━━━━━━━━━━━━━━━━━━╇━━━━━━━━━━━━━━━┩\n",
       "│ dense (<span style=\"color: #0087ff; text-decoration-color: #0087ff\">Dense</span>)                   │ (<span style=\"color: #00d7ff; text-decoration-color: #00d7ff\">None</span>, <span style=\"color: #00af00; text-decoration-color: #00af00\">12</span>)             │           <span style=\"color: #00af00; text-decoration-color: #00af00\">144</span> │\n",
       "├─────────────────────────────────┼────────────────────────┼───────────────┤\n",
       "│ dense_1 (<span style=\"color: #0087ff; text-decoration-color: #0087ff\">Dense</span>)                 │ (<span style=\"color: #00d7ff; text-decoration-color: #00d7ff\">None</span>, <span style=\"color: #00af00; text-decoration-color: #00af00\">8</span>)              │           <span style=\"color: #00af00; text-decoration-color: #00af00\">104</span> │\n",
       "├─────────────────────────────────┼────────────────────────┼───────────────┤\n",
       "│ dense_2 (<span style=\"color: #0087ff; text-decoration-color: #0087ff\">Dense</span>)                 │ (<span style=\"color: #00d7ff; text-decoration-color: #00d7ff\">None</span>, <span style=\"color: #00af00; text-decoration-color: #00af00\">1</span>)              │             <span style=\"color: #00af00; text-decoration-color: #00af00\">9</span> │\n",
       "└─────────────────────────────────┴────────────────────────┴───────────────┘\n",
       "</pre>\n"
      ],
      "text/plain": [
       "┏━━━━━━━━━━━━━━━━━━━━━━━━━━━━━━━━━┳━━━━━━━━━━━━━━━━━━━━━━━━┳━━━━━━━━━━━━━━━┓\n",
       "┃\u001b[1m \u001b[0m\u001b[1mLayer (type)                   \u001b[0m\u001b[1m \u001b[0m┃\u001b[1m \u001b[0m\u001b[1mOutput Shape          \u001b[0m\u001b[1m \u001b[0m┃\u001b[1m \u001b[0m\u001b[1m      Param #\u001b[0m\u001b[1m \u001b[0m┃\n",
       "┡━━━━━━━━━━━━━━━━━━━━━━━━━━━━━━━━━╇━━━━━━━━━━━━━━━━━━━━━━━━╇━━━━━━━━━━━━━━━┩\n",
       "│ dense (\u001b[38;5;33mDense\u001b[0m)                   │ (\u001b[38;5;45mNone\u001b[0m, \u001b[38;5;34m12\u001b[0m)             │           \u001b[38;5;34m144\u001b[0m │\n",
       "├─────────────────────────────────┼────────────────────────┼───────────────┤\n",
       "│ dense_1 (\u001b[38;5;33mDense\u001b[0m)                 │ (\u001b[38;5;45mNone\u001b[0m, \u001b[38;5;34m8\u001b[0m)              │           \u001b[38;5;34m104\u001b[0m │\n",
       "├─────────────────────────────────┼────────────────────────┼───────────────┤\n",
       "│ dense_2 (\u001b[38;5;33mDense\u001b[0m)                 │ (\u001b[38;5;45mNone\u001b[0m, \u001b[38;5;34m1\u001b[0m)              │             \u001b[38;5;34m9\u001b[0m │\n",
       "└─────────────────────────────────┴────────────────────────┴───────────────┘\n"
      ]
     },
     "metadata": {},
     "output_type": "display_data"
    },
    {
     "data": {
      "text/html": [
       "<pre style=\"white-space:pre;overflow-x:auto;line-height:normal;font-family:Menlo,'DejaVu Sans Mono',consolas,'Courier New',monospace\"><span style=\"font-weight: bold\"> Total params: </span><span style=\"color: #00af00; text-decoration-color: #00af00\">257</span> (1.00 KB)\n",
       "</pre>\n"
      ],
      "text/plain": [
       "\u001b[1m Total params: \u001b[0m\u001b[38;5;34m257\u001b[0m (1.00 KB)\n"
      ]
     },
     "metadata": {},
     "output_type": "display_data"
    },
    {
     "data": {
      "text/html": [
       "<pre style=\"white-space:pre;overflow-x:auto;line-height:normal;font-family:Menlo,'DejaVu Sans Mono',consolas,'Courier New',monospace\"><span style=\"font-weight: bold\"> Trainable params: </span><span style=\"color: #00af00; text-decoration-color: #00af00\">257</span> (1.00 KB)\n",
       "</pre>\n"
      ],
      "text/plain": [
       "\u001b[1m Trainable params: \u001b[0m\u001b[38;5;34m257\u001b[0m (1.00 KB)\n"
      ]
     },
     "metadata": {},
     "output_type": "display_data"
    },
    {
     "data": {
      "text/html": [
       "<pre style=\"white-space:pre;overflow-x:auto;line-height:normal;font-family:Menlo,'DejaVu Sans Mono',consolas,'Courier New',monospace\"><span style=\"font-weight: bold\"> Non-trainable params: </span><span style=\"color: #00af00; text-decoration-color: #00af00\">0</span> (0.00 B)\n",
       "</pre>\n"
      ],
      "text/plain": [
       "\u001b[1m Non-trainable params: \u001b[0m\u001b[38;5;34m0\u001b[0m (0.00 B)\n"
      ]
     },
     "metadata": {},
     "output_type": "display_data"
    }
   ],
   "source": [
    "# Model\n",
    "from tensorflow.keras import Sequential\n",
    "from tensorflow.keras.layers import Dense\n",
    "model = Sequential() \n",
    "model.add(Dense(12,activation = 'sigmoid',input_shape = (11,)))\n",
    "model.add(Dense(8,activation = 'sigmoid'))\n",
    "model.add(Dense(1,activation = 'sigmoid'))\n",
    "\n",
    "model.output_shape\n",
    "model.summary()"
   ]
  },
  {
   "cell_type": "code",
   "execution_count": 16,
   "id": "4a6d6317",
   "metadata": {
    "execution": {
     "iopub.execute_input": "2024-06-03T15:20:21.832946Z",
     "iopub.status.busy": "2024-06-03T15:20:21.832099Z",
     "iopub.status.idle": "2024-06-03T15:20:21.846568Z",
     "shell.execute_reply": "2024-06-03T15:20:21.845434Z"
    },
    "papermill": {
     "duration": 0.029712,
     "end_time": "2024-06-03T15:20:21.848929",
     "exception": false,
     "start_time": "2024-06-03T15:20:21.819217",
     "status": "completed"
    },
    "tags": []
   },
   "outputs": [
    {
     "data": {
      "text/plain": [
       "{'name': 'sequential',\n",
       " 'trainable': True,\n",
       " 'dtype': 'float32',\n",
       " 'layers': [{'module': 'keras.layers',\n",
       "   'class_name': 'InputLayer',\n",
       "   'config': {'batch_shape': (None, 11),\n",
       "    'dtype': 'float32',\n",
       "    'sparse': False,\n",
       "    'name': 'input_layer'},\n",
       "   'registered_name': None},\n",
       "  {'module': 'keras.layers',\n",
       "   'class_name': 'Dense',\n",
       "   'config': {'name': 'dense',\n",
       "    'trainable': True,\n",
       "    'dtype': 'float32',\n",
       "    'units': 12,\n",
       "    'activation': 'sigmoid',\n",
       "    'use_bias': True,\n",
       "    'kernel_initializer': {'module': 'keras.initializers',\n",
       "     'class_name': 'GlorotUniform',\n",
       "     'config': {'seed': None},\n",
       "     'registered_name': None},\n",
       "    'bias_initializer': {'module': 'keras.initializers',\n",
       "     'class_name': 'Zeros',\n",
       "     'config': {},\n",
       "     'registered_name': None},\n",
       "    'kernel_regularizer': None,\n",
       "    'bias_regularizer': None,\n",
       "    'kernel_constraint': None,\n",
       "    'bias_constraint': None},\n",
       "   'registered_name': None,\n",
       "   'build_config': {'input_shape': (None, 11)}},\n",
       "  {'module': 'keras.layers',\n",
       "   'class_name': 'Dense',\n",
       "   'config': {'name': 'dense_1',\n",
       "    'trainable': True,\n",
       "    'dtype': 'float32',\n",
       "    'units': 8,\n",
       "    'activation': 'sigmoid',\n",
       "    'use_bias': True,\n",
       "    'kernel_initializer': {'module': 'keras.initializers',\n",
       "     'class_name': 'GlorotUniform',\n",
       "     'config': {'seed': None},\n",
       "     'registered_name': None},\n",
       "    'bias_initializer': {'module': 'keras.initializers',\n",
       "     'class_name': 'Zeros',\n",
       "     'config': {},\n",
       "     'registered_name': None},\n",
       "    'kernel_regularizer': None,\n",
       "    'bias_regularizer': None,\n",
       "    'kernel_constraint': None,\n",
       "    'bias_constraint': None},\n",
       "   'registered_name': None,\n",
       "   'build_config': {'input_shape': (None, 12)}},\n",
       "  {'module': 'keras.layers',\n",
       "   'class_name': 'Dense',\n",
       "   'config': {'name': 'dense_2',\n",
       "    'trainable': True,\n",
       "    'dtype': 'float32',\n",
       "    'units': 1,\n",
       "    'activation': 'sigmoid',\n",
       "    'use_bias': True,\n",
       "    'kernel_initializer': {'module': 'keras.initializers',\n",
       "     'class_name': 'GlorotUniform',\n",
       "     'config': {'seed': None},\n",
       "     'registered_name': None},\n",
       "    'bias_initializer': {'module': 'keras.initializers',\n",
       "     'class_name': 'Zeros',\n",
       "     'config': {},\n",
       "     'registered_name': None},\n",
       "    'kernel_regularizer': None,\n",
       "    'bias_regularizer': None,\n",
       "    'kernel_constraint': None,\n",
       "    'bias_constraint': None},\n",
       "   'registered_name': None,\n",
       "   'build_config': {'input_shape': (None, 8)}}],\n",
       " 'build_input_shape': (None, 11)}"
      ]
     },
     "execution_count": 16,
     "metadata": {},
     "output_type": "execute_result"
    }
   ],
   "source": [
    "model.get_config()"
   ]
  },
  {
   "cell_type": "code",
   "execution_count": 17,
   "id": "6356f175",
   "metadata": {
    "execution": {
     "iopub.execute_input": "2024-06-03T15:20:21.875145Z",
     "iopub.status.busy": "2024-06-03T15:20:21.874647Z",
     "iopub.status.idle": "2024-06-03T15:20:21.894966Z",
     "shell.execute_reply": "2024-06-03T15:20:21.893253Z"
    },
    "papermill": {
     "duration": 0.036952,
     "end_time": "2024-06-03T15:20:21.898265",
     "exception": false,
     "start_time": "2024-06-03T15:20:21.861313",
     "status": "completed"
    },
    "tags": []
   },
   "outputs": [
    {
     "data": {
      "text/plain": [
       "[array([[-0.16672704,  0.4104616 ,  0.2955972 ,  0.03776771,  0.43317437,\n",
       "          0.01843709,  0.47158706, -0.4693955 ,  0.20079857,  0.18618554,\n",
       "          0.01940066, -0.37913585],\n",
       "        [-0.50081164, -0.45006397, -0.48011956, -0.32287988,  0.49330682,\n",
       "          0.4444232 ,  0.452591  , -0.03753403, -0.18716326, -0.43221617,\n",
       "          0.36994755, -0.5077286 ],\n",
       "        [-0.22130165, -0.12546527,  0.2912482 ,  0.3787257 , -0.11893579,\n",
       "         -0.4018408 , -0.09075528, -0.23281762, -0.16599202, -0.21568352,\n",
       "         -0.09050685,  0.0583989 ],\n",
       "        [ 0.13741136,  0.17643368, -0.09237376,  0.09980243,  0.3751576 ,\n",
       "          0.07926172,  0.40276408,  0.3791194 , -0.2311039 , -0.02940518,\n",
       "          0.0725795 ,  0.09607154],\n",
       "        [-0.11331767, -0.13627714,  0.3981099 ,  0.13512677, -0.17243016,\n",
       "         -0.36918527,  0.09262449, -0.1661681 ,  0.4634627 ,  0.25605828,\n",
       "         -0.06822649,  0.2145006 ],\n",
       "        [ 0.0175826 ,  0.23119241, -0.06555054, -0.26302007, -0.32825935,\n",
       "         -0.16818696, -0.12606853, -0.46895197, -0.23058468, -0.3631934 ,\n",
       "          0.4704432 , -0.20156768],\n",
       "        [ 0.08128071, -0.19294164,  0.34026408, -0.24604815,  0.00505555,\n",
       "          0.3296926 , -0.00497395,  0.15823507,  0.38686645, -0.40005854,\n",
       "         -0.11692703,  0.458332  ],\n",
       "        [ 0.32335663,  0.37306607, -0.0989114 ,  0.04703164,  0.22648686,\n",
       "         -0.44829133, -0.37764156, -0.06705138, -0.1979683 ,  0.27880758,\n",
       "         -0.32371938,  0.23403412],\n",
       "        [-0.04825142,  0.14635414, -0.01947811, -0.14077204, -0.094374  ,\n",
       "         -0.10315397,  0.18519503,  0.48000157, -0.3310612 ,  0.26094872,\n",
       "         -0.29763997,  0.15224135],\n",
       "        [-0.35873783, -0.02219099, -0.32869238, -0.02690908,  0.38884336,\n",
       "          0.30861026,  0.30683112, -0.4416754 , -0.23571315, -0.09430119,\n",
       "         -0.22072968,  0.23706532],\n",
       "        [ 0.33774596,  0.31729937,  0.02442652,  0.24663377,  0.48993534,\n",
       "          0.44984257,  0.06731123,  0.4425692 , -0.38197678,  0.2802232 ,\n",
       "          0.07750827, -0.09971938]], dtype=float32),\n",
       " array([0., 0., 0., 0., 0., 0., 0., 0., 0., 0., 0., 0.], dtype=float32),\n",
       " array([[-0.13115007,  0.5314671 , -0.16365114, -0.16535935,  0.06154788,\n",
       "         -0.30049324,  0.0921883 ,  0.45407104],\n",
       "        [ 0.43006533, -0.26604354,  0.21860904,  0.26316452, -0.22809607,\n",
       "          0.2960235 ,  0.32757598, -0.4194253 ],\n",
       "        [ 0.37184495, -0.10146746,  0.12695038,  0.02874279,  0.14494097,\n",
       "         -0.39748913,  0.4937215 , -0.5385892 ],\n",
       "        [-0.3792516 ,  0.27200013, -0.5358331 ,  0.42730248, -0.18700927,\n",
       "          0.08534908, -0.39948386,  0.25806856],\n",
       "        [ 0.11566556,  0.07229125, -0.08492559,  0.4249336 , -0.24962273,\n",
       "         -0.12926465,  0.21578652, -0.33478844],\n",
       "        [-0.16695592, -0.398789  ,  0.03602731,  0.2096594 , -0.30265996,\n",
       "         -0.05572706,  0.34388858, -0.4435876 ],\n",
       "        [-0.5205727 , -0.05397457,  0.47191703,  0.1542576 ,  0.09078622,\n",
       "         -0.41447252,  0.4460159 , -0.23229343],\n",
       "        [ 0.01437807, -0.40921628, -0.44178826, -0.1333946 ,  0.19202238,\n",
       "         -0.11764407, -0.27559757,  0.15670335],\n",
       "        [ 0.19221646, -0.2915531 , -0.40705323, -0.23969379, -0.22105259,\n",
       "         -0.4061698 ,  0.02968627,  0.06929117],\n",
       "        [ 0.33031726, -0.3518374 ,  0.19245487, -0.5069982 , -0.39753222,\n",
       "          0.13702548,  0.31485808, -0.22182268],\n",
       "        [-0.42651346, -0.15784237,  0.03549033,  0.5095602 , -0.15312436,\n",
       "         -0.49782258,  0.31478888,  0.11421943],\n",
       "        [-0.46592417, -0.45996457,  0.54239154,  0.09456277, -0.33150968,\n",
       "          0.38730085,  0.29003632,  0.21292877]], dtype=float32),\n",
       " array([0., 0., 0., 0., 0., 0., 0., 0.], dtype=float32),\n",
       " array([[-0.17385793],\n",
       "        [-0.15730262],\n",
       "        [-0.34314376],\n",
       "        [-0.33959728],\n",
       "        [-0.4327652 ],\n",
       "        [ 0.36151433],\n",
       "        [-0.5674226 ],\n",
       "        [-0.5150774 ]], dtype=float32),\n",
       " array([0.], dtype=float32)]"
      ]
     },
     "execution_count": 17,
     "metadata": {},
     "output_type": "execute_result"
    }
   ],
   "source": [
    "model.get_weights()"
   ]
  },
  {
   "cell_type": "code",
   "execution_count": 18,
   "id": "98bdc716",
   "metadata": {
    "execution": {
     "iopub.execute_input": "2024-06-03T15:20:21.925666Z",
     "iopub.status.busy": "2024-06-03T15:20:21.925229Z",
     "iopub.status.idle": "2024-06-03T15:20:21.942497Z",
     "shell.execute_reply": "2024-06-03T15:20:21.941323Z"
    },
    "papermill": {
     "duration": 0.034368,
     "end_time": "2024-06-03T15:20:21.945103",
     "exception": false,
     "start_time": "2024-06-03T15:20:21.910735",
     "status": "completed"
    },
    "tags": []
   },
   "outputs": [],
   "source": [
    "model.compile(\n",
    "    loss = 'binary_crossentropy',\n",
    "    optimizer = 'adam',\n",
    "    metrics = ['accuracy'])"
   ]
  },
  {
   "cell_type": "code",
   "execution_count": 19,
   "id": "7bb7875f",
   "metadata": {
    "execution": {
     "iopub.execute_input": "2024-06-03T15:20:21.970856Z",
     "iopub.status.busy": "2024-06-03T15:20:21.970392Z",
     "iopub.status.idle": "2024-06-03T15:23:14.095255Z",
     "shell.execute_reply": "2024-06-03T15:23:14.093911Z"
    },
    "papermill": {
     "duration": 172.141871,
     "end_time": "2024-06-03T15:23:14.098523",
     "exception": false,
     "start_time": "2024-06-03T15:20:21.956652",
     "status": "completed"
    },
    "tags": []
   },
   "outputs": [
    {
     "name": "stdout",
     "output_type": "stream",
     "text": [
      "Epoch 1/20\n",
      "\u001b[1m4547/4547\u001b[0m \u001b[32m━━━━━━━━━━━━━━━━━━━━\u001b[0m\u001b[37m\u001b[0m \u001b[1m8s\u001b[0m 1ms/step - accuracy: 0.8663 - loss: 0.3080\n",
      "Epoch 2/20\n",
      "\u001b[1m4547/4547\u001b[0m \u001b[32m━━━━━━━━━━━━━━━━━━━━\u001b[0m\u001b[37m\u001b[0m \u001b[1m10s\u001b[0m 1ms/step - accuracy: 0.9925 - loss: 0.0443\n",
      "Epoch 3/20\n",
      "\u001b[1m4547/4547\u001b[0m \u001b[32m━━━━━━━━━━━━━━━━━━━━\u001b[0m\u001b[37m\u001b[0m \u001b[1m7s\u001b[0m 1ms/step - accuracy: 0.9949 - loss: 0.0277\n",
      "Epoch 4/20\n",
      "\u001b[1m4547/4547\u001b[0m \u001b[32m━━━━━━━━━━━━━━━━━━━━\u001b[0m\u001b[37m\u001b[0m \u001b[1m10s\u001b[0m 1ms/step - accuracy: 0.9931 - loss: 0.0240\n",
      "Epoch 5/20\n",
      "\u001b[1m4547/4547\u001b[0m \u001b[32m━━━━━━━━━━━━━━━━━━━━\u001b[0m\u001b[37m\u001b[0m \u001b[1m7s\u001b[0m 1ms/step - accuracy: 0.9968 - loss: 0.0179\n",
      "Epoch 6/20\n",
      "\u001b[1m4547/4547\u001b[0m \u001b[32m━━━━━━━━━━━━━━━━━━━━\u001b[0m\u001b[37m\u001b[0m \u001b[1m7s\u001b[0m 1ms/step - accuracy: 0.9953 - loss: 0.0225\n",
      "Epoch 7/20\n",
      "\u001b[1m4547/4547\u001b[0m \u001b[32m━━━━━━━━━━━━━━━━━━━━\u001b[0m\u001b[37m\u001b[0m \u001b[1m7s\u001b[0m 2ms/step - accuracy: 0.9954 - loss: 0.0224\n",
      "Epoch 8/20\n",
      "\u001b[1m4547/4547\u001b[0m \u001b[32m━━━━━━━━━━━━━━━━━━━━\u001b[0m\u001b[37m\u001b[0m \u001b[1m7s\u001b[0m 2ms/step - accuracy: 0.9958 - loss: 0.0253\n",
      "Epoch 9/20\n",
      "\u001b[1m4547/4547\u001b[0m \u001b[32m━━━━━━━━━━━━━━━━━━━━\u001b[0m\u001b[37m\u001b[0m \u001b[1m10s\u001b[0m 2ms/step - accuracy: 0.9961 - loss: 0.0201\n",
      "Epoch 10/20\n",
      "\u001b[1m4547/4547\u001b[0m \u001b[32m━━━━━━━━━━━━━━━━━━━━\u001b[0m\u001b[37m\u001b[0m \u001b[1m7s\u001b[0m 2ms/step - accuracy: 0.9974 - loss: 0.0177\n",
      "Epoch 11/20\n",
      "\u001b[1m4547/4547\u001b[0m \u001b[32m━━━━━━━━━━━━━━━━━━━━\u001b[0m\u001b[37m\u001b[0m \u001b[1m11s\u001b[0m 2ms/step - accuracy: 0.9968 - loss: 0.0164\n",
      "Epoch 12/20\n",
      "\u001b[1m4547/4547\u001b[0m \u001b[32m━━━━━━━━━━━━━━━━━━━━\u001b[0m\u001b[37m\u001b[0m \u001b[1m8s\u001b[0m 2ms/step - accuracy: 0.9971 - loss: 0.0161\n",
      "Epoch 13/20\n",
      "\u001b[1m4547/4547\u001b[0m \u001b[32m━━━━━━━━━━━━━━━━━━━━\u001b[0m\u001b[37m\u001b[0m \u001b[1m10s\u001b[0m 2ms/step - accuracy: 0.9974 - loss: 0.0164\n",
      "Epoch 14/20\n",
      "\u001b[1m4547/4547\u001b[0m \u001b[32m━━━━━━━━━━━━━━━━━━━━\u001b[0m\u001b[37m\u001b[0m \u001b[1m10s\u001b[0m 2ms/step - accuracy: 0.9974 - loss: 0.0115\n",
      "Epoch 15/20\n",
      "\u001b[1m4547/4547\u001b[0m \u001b[32m━━━━━━━━━━━━━━━━━━━━\u001b[0m\u001b[37m\u001b[0m \u001b[1m10s\u001b[0m 1ms/step - accuracy: 0.9961 - loss: 0.0187\n",
      "Epoch 16/20\n",
      "\u001b[1m4547/4547\u001b[0m \u001b[32m━━━━━━━━━━━━━━━━━━━━\u001b[0m\u001b[37m\u001b[0m \u001b[1m7s\u001b[0m 1ms/step - accuracy: 0.9969 - loss: 0.0137\n",
      "Epoch 17/20\n",
      "\u001b[1m4547/4547\u001b[0m \u001b[32m━━━━━━━━━━━━━━━━━━━━\u001b[0m\u001b[37m\u001b[0m \u001b[1m11s\u001b[0m 2ms/step - accuracy: 0.9969 - loss: 0.0152\n",
      "Epoch 18/20\n",
      "\u001b[1m4547/4547\u001b[0m \u001b[32m━━━━━━━━━━━━━━━━━━━━\u001b[0m\u001b[37m\u001b[0m \u001b[1m11s\u001b[0m 2ms/step - accuracy: 0.9951 - loss: 0.0163\n",
      "Epoch 19/20\n",
      "\u001b[1m4547/4547\u001b[0m \u001b[32m━━━━━━━━━━━━━━━━━━━━\u001b[0m\u001b[37m\u001b[0m \u001b[1m7s\u001b[0m 2ms/step - accuracy: 0.9974 - loss: 0.0146\n",
      "Epoch 20/20\n",
      "\u001b[1m4547/4547\u001b[0m \u001b[32m━━━━━━━━━━━━━━━━━━━━\u001b[0m\u001b[37m\u001b[0m \u001b[1m9s\u001b[0m 1ms/step - accuracy: 0.9971 - loss: 0.0171\n"
     ]
    },
    {
     "data": {
      "text/plain": [
       "<keras.src.callbacks.history.History at 0x7ff52d86b100>"
      ]
     },
     "execution_count": 19,
     "metadata": {},
     "output_type": "execute_result"
    }
   ],
   "source": [
    "# Model Training\n",
    "history = model.fit(x_train, y_train, epochs = 20, batch_size = 1, verbose = 1)\n",
    "history"
   ]
  },
  {
   "cell_type": "code",
   "execution_count": 20,
   "id": "537bbe6e",
   "metadata": {
    "execution": {
     "iopub.execute_input": "2024-06-03T15:23:14.673585Z",
     "iopub.status.busy": "2024-06-03T15:23:14.673107Z",
     "iopub.status.idle": "2024-06-03T15:23:15.080593Z",
     "shell.execute_reply": "2024-06-03T15:23:15.079255Z"
    },
    "papermill": {
     "duration": 0.697011,
     "end_time": "2024-06-03T15:23:15.083576",
     "exception": false,
     "start_time": "2024-06-03T15:23:14.386565",
     "status": "completed"
    },
    "tags": []
   },
   "outputs": [
    {
     "name": "stdout",
     "output_type": "stream",
     "text": [
      "\u001b[1m61/61\u001b[0m \u001b[32m━━━━━━━━━━━━━━━━━━━━\u001b[0m\u001b[37m\u001b[0m \u001b[1m0s\u001b[0m 2ms/step\n"
     ]
    },
    {
     "data": {
      "text/plain": [
       "array([[1.],\n",
       "       [0.],\n",
       "       [0.],\n",
       "       [1.],\n",
       "       [1.],\n",
       "       [0.],\n",
       "       [1.],\n",
       "       [0.],\n",
       "       [0.],\n",
       "       [1.]], dtype=float32)"
      ]
     },
     "execution_count": 20,
     "metadata": {},
     "output_type": "execute_result"
    }
   ],
   "source": [
    "# Model Evaluation\n",
    "y_pred = np.round(model.predict(x_test))\n",
    "y_pred[0:10]"
   ]
  },
  {
   "cell_type": "code",
   "execution_count": 21,
   "id": "dcafb521",
   "metadata": {
    "execution": {
     "iopub.execute_input": "2024-06-03T15:23:15.675191Z",
     "iopub.status.busy": "2024-06-03T15:23:15.674642Z",
     "iopub.status.idle": "2024-06-03T15:23:16.279982Z",
     "shell.execute_reply": "2024-06-03T15:23:16.278409Z"
    },
    "papermill": {
     "duration": 0.900642,
     "end_time": "2024-06-03T15:23:16.283365",
     "exception": false,
     "start_time": "2024-06-03T15:23:15.382723",
     "status": "completed"
    },
    "tags": []
   },
   "outputs": [
    {
     "name": "stdout",
     "output_type": "stream",
     "text": [
      "Test Accuracy:0.992\n",
      "Test Accuracy:0.998\n"
     ]
    }
   ],
   "source": [
    "loss, acc = model.evaluate(x_test, y_test, verbose = 0)\n",
    "print('Test Accuracy:%.3f'%acc)\n",
    "loss, acc = model.evaluate(x_train, y_train, verbose = 0)\n",
    "print('Test Accuracy:%.3f'%acc)"
   ]
  },
  {
   "cell_type": "code",
   "execution_count": 22,
   "id": "2d6c8d4e",
   "metadata": {
    "execution": {
     "iopub.execute_input": "2024-06-03T15:23:16.853619Z",
     "iopub.status.busy": "2024-06-03T15:23:16.853118Z",
     "iopub.status.idle": "2024-06-03T15:23:16.868652Z",
     "shell.execute_reply": "2024-06-03T15:23:16.866829Z"
    },
    "papermill": {
     "duration": 0.305089,
     "end_time": "2024-06-03T15:23:16.871755",
     "exception": false,
     "start_time": "2024-06-03T15:23:16.566666",
     "status": "completed"
    },
    "tags": []
   },
   "outputs": [
    {
     "name": "stdout",
     "output_type": "stream",
     "text": [
      "            pred:White  pred:Red\n",
      "true:White        1470         6\n",
      "true:Red             9       465\n"
     ]
    }
   ],
   "source": [
    "from sklearn import metrics\n",
    "print(pd.DataFrame(metrics.confusion_matrix(y_test,y_pred,labels = [0,1]),index = ['true:White','true:Red'],columns = ['pred:White','pred:Red']))"
   ]
  },
  {
   "cell_type": "code",
   "execution_count": 23,
   "id": "b36c6a4f",
   "metadata": {
    "execution": {
     "iopub.execute_input": "2024-06-03T15:23:17.447522Z",
     "iopub.status.busy": "2024-06-03T15:23:17.446602Z",
     "iopub.status.idle": "2024-06-03T15:23:17.779878Z",
     "shell.execute_reply": "2024-06-03T15:23:17.778124Z"
    },
    "papermill": {
     "duration": 0.623173,
     "end_time": "2024-06-03T15:23:17.783057",
     "exception": false,
     "start_time": "2024-06-03T15:23:17.159884",
     "status": "completed"
    },
    "tags": []
   },
   "outputs": [
    {
     "data": {
      "image/png": "[encoded data removed]",
      "text/plain": [
       "<Figure size 640x480 with 1 Axes>"
      ]
     },
     "metadata": {},
     "output_type": "display_data"
    }
   ],
   "source": [
    "plt.subplot(211)\n",
    "plt.title('Loss')\n",
    "plt.plot(history.history['loss'], label = 'Train')\n",
    "plt.legend()\n",
    "plt.show()\n"
   ]
  },
  {
   "cell_type": "code",
   "execution_count": 24,
   "id": "00eaac7a",
   "metadata": {
    "execution": {
     "iopub.execute_input": "2024-06-03T15:23:18.434755Z",
     "iopub.status.busy": "2024-06-03T15:23:18.434304Z",
     "iopub.status.idle": "2024-06-03T15:23:18.449957Z",
     "shell.execute_reply": "2024-06-03T15:23:18.448181Z"
    },
    "papermill": {
     "duration": 0.381128,
     "end_time": "2024-06-03T15:23:18.452611",
     "exception": false,
     "start_time": "2024-06-03T15:23:18.071483",
     "status": "completed"
    },
    "tags": []
   },
   "outputs": [
    {
     "data": {
      "text/plain": [
       "[array([[ 2.78762251e-01,  2.99820065e-01,  3.32443804e-01,\n",
       "         -4.91839617e-01,  5.44611931e-01,  2.13410318e-01,\n",
       "          4.67399806e-01, -3.34978610e-01, -5.20800292e-01,\n",
       "         -9.79472473e-02, -2.30652019e-02, -1.36727467e-01],\n",
       "        [-6.08448803e-01, -1.58057492e-02, -1.83047569e+00,\n",
       "          3.20758373e-02,  1.37127209e+00,  2.04715586e+00,\n",
       "          1.50350779e-01,  2.60260791e-01,  8.52436647e-02,\n",
       "         -1.89353719e-01,  4.57742482e-01, -1.82455039e+00],\n",
       "        [-5.30594409e-01, -3.34173322e-01, -7.57106170e-02,\n",
       "          3.83000076e-01, -1.06678128e-01,  1.17645070e-01,\n",
       "          8.93625095e-02, -3.17630380e-01, -5.73078617e-02,\n",
       "         -3.58850323e-02,  1.02626592e-01, -5.50138503e-02],\n",
       "        [ 8.50080788e-01, -6.34397805e-01,  7.86637008e-01,\n",
       "         -6.47797287e-01, -3.63237739e-01, -8.15439224e-01,\n",
       "          1.29041886e+00, -8.45465958e-01, -8.24477136e-01,\n",
       "         -9.55426574e-01,  1.16398478e+00,  9.49761569e-01],\n",
       "        [-2.46479392e+00,  2.10380316e-01,  4.57177103e-01,\n",
       "          3.06865144e+00, -9.62162949e-03, -3.73333156e-01,\n",
       "         -2.87160892e-02, -2.26985231e-01,  3.83905554e+00,\n",
       "          2.13765240e+00, -2.84650236e-01,  3.61656398e-01],\n",
       "        [-5.11388361e-01,  9.76231158e-01,  1.11320354e-01,\n",
       "          3.12560320e-01,  3.45565736e-01, -2.95529008e-01,\n",
       "         -7.70639837e-01,  3.82179134e-02,  3.36711973e-01,\n",
       "          3.89784127e-01, -3.90727311e-01, -2.19124287e-01],\n",
       "        [ 9.54500914e-01, -1.31469607e+00,  1.50546861e+00,\n",
       "         -9.24423456e-01, -7.51914501e-01, -9.02732253e-01,\n",
       "          8.94073606e-01, -1.15113878e+00, -7.17046618e-01,\n",
       "         -9.37992692e-01,  7.25492835e-01,  1.52256584e+00],\n",
       "        [-3.31657857e-01,  1.44946218e+00, -1.47546351e+00,\n",
       "          7.37397850e-01,  1.29749084e+00,  1.06554747e+00,\n",
       "         -1.67919922e+00,  1.68969417e+00,  2.59370208e-01,\n",
       "          1.30438828e+00, -1.49559665e+00, -1.19226944e+00],\n",
       "        [ 1.46552220e-01,  3.40124875e-01,  3.19765345e-03,\n",
       "         -2.74356395e-01, -8.21588710e-02, -1.21206164e-01,\n",
       "         -4.85623591e-02,  1.32136977e+00, -3.74397933e-01,\n",
       "          8.92280936e-02, -1.02478480e+00, -1.40885994e-01],\n",
       "        [-2.96585113e-01,  1.26824126e-01, -3.35699141e-01,\n",
       "          5.26040513e-03,  4.44446623e-01,  4.85811204e-01,\n",
       "         -8.22478160e-02, -6.14183247e-01, -2.70312652e-02,\n",
       "          1.60944939e-01, -6.44178510e-01, -4.07300293e-02],\n",
       "        [-3.03447872e-01,  9.34890211e-01, -2.58547992e-01,\n",
       "          6.34769738e-01,  1.10031807e+00,  7.01769590e-01,\n",
       "         -5.96392989e-01,  3.30817193e-01,  5.51392317e-01,\n",
       "          6.09152436e-01, -4.43131059e-01, -4.86473918e-01]], dtype=float32),\n",
       " array([ 0.81050235, -1.2825103 ,  0.42737278, -0.61009794, -1.0330127 ,\n",
       "        -0.4449122 ,  0.5873217 , -0.3636852 , -0.7551664 , -0.78310186,\n",
       "         0.5804527 ,  0.56483406], dtype=float32),\n",
       " array([[ 1.1772704 ,  2.0594823 ,  1.1121042 ,  1.1355997 ,  1.4875275 ,\n",
       "         -1.638699  ,  1.246109  ,  1.858156  ],\n",
       "        [-0.36205363, -0.98518705, -0.48005548, -0.57570505, -0.9011645 ,\n",
       "          1.1302993 , -0.521416  , -1.116893  ],\n",
       "        [ 1.9581338 ,  1.7186872 ,  1.6053132 ,  1.6450114 ,  1.8918761 ,\n",
       "         -2.0044885 ,  1.8834378 ,  1.121952  ],\n",
       "        [-1.208231  , -0.44824964, -1.2846618 , -0.4650878 , -0.86014444,\n",
       "          1.0241154 , -1.3205922 , -0.5052498 ],\n",
       "        [-0.4139395 , -0.37647504, -0.49042696, -0.16999504, -0.64136475,\n",
       "          0.46951437, -0.35532615, -0.7470595 ],\n",
       "        [-0.81722534, -0.82672185, -0.39937633, -0.43134075, -0.69316316,\n",
       "          0.5872988 , -0.2956678 , -0.8859085 ],\n",
       "        [ 0.5840377 ,  1.4018509 ,  1.632509  ,  1.2807678 ,  1.4744    ,\n",
       "         -1.543515  ,  1.4297864 ,  1.0846287 ],\n",
       "        [-0.5357936 , -0.6152992 , -0.7016736 , -0.6032956 , -0.01685662,\n",
       "          0.34024775, -0.7658535 , -0.12229958],\n",
       "        [-0.7936318 , -1.2465143 , -1.3811536 , -1.3558179 , -1.1408241 ,\n",
       "          0.7936654 , -1.1131302 , -0.9383715 ],\n",
       "        [-0.11080696, -0.87005115, -0.31879795, -1.1186471 , -0.859561  ,\n",
       "          0.81213874, -0.32683763, -0.72899723],\n",
       "        [ 0.73823994,  1.3650318 ,  1.2855153 ,  1.7365503 ,  1.2708517 ,\n",
       "         -1.7159822 ,  1.4083726 ,  1.4651383 ],\n",
       "        [ 0.95297635,  1.243353  ,  1.9030737 ,  1.5683538 ,  1.2776476 ,\n",
       "         -1.1137894 ,  1.5665821 ,  1.7255253 ]], dtype=float32),\n",
       " array([ 0.10621199,  0.3724505 ,  0.20763421,  0.05432379,  0.37320137,\n",
       "        -0.04330524, -0.0419842 ,  0.2833645 ], dtype=float32),\n",
       " array([[-0.6712405],\n",
       "        [-1.3870528],\n",
       "        [-1.4599786],\n",
       "        [-1.0925583],\n",
       "        [-1.6577578],\n",
       "        [ 5.166034 ],\n",
       "        [-1.3857417],\n",
       "        [-1.5756546]], dtype=float32),\n",
       " array([2.3294315], dtype=float32)]"
      ]
     },
     "execution_count": 24,
     "metadata": {},
     "output_type": "execute_result"
    }
   ],
   "source": [
    "model.get_weights()"
   ]
  },
  {
   "cell_type": "code",
   "execution_count": null,
   "id": "3676c489",
   "metadata": {
    "papermill": {
     "duration": 0.292089,
     "end_time": "2024-06-03T15:23:19.027673",
     "exception": false,
     "start_time": "2024-06-03T15:23:18.735584",
     "status": "completed"
    },
    "tags": []
   },
   "outputs": [],
   "source": []
  }
 ],
 "metadata": {
  "kaggle": {
   "accelerator": "none",
   "dataSources": [
    {
     "datasetId": 4147975,
     "sourceId": 7177463,
     "sourceType": "datasetVersion"
    }
   ],
   "dockerImageVersionId": 30715,
   "isGpuEnabled": false,
   "isInternetEnabled": false,
   "language": "python",
   "sourceType": "notebook"
  },
  "kernelspec": {
   "display_name": "Python 3",
   "language": "python",
   "name": "python3"
  },
  "language_info": {
   "codemirror_mode": {
    "name": "ipython",
    "version": 3
   },
   "file_extension": ".py",
   "mimetype": "text/x-python",
   "name": "python",
   "nbconvert_exporter": "python",
   "pygments_lexer": "ipython3",
   "version": "3.10.13"
  },
  "papermill": {
   "default_parameters": {},
   "duration": 202.121481,
   "end_time": "2024-06-03T15:23:21.371173",
   "environment_variables": {},
   "exception": null,
   "input_path": "__notebook__.ipynb",
   "output_path": "__notebook__.ipynb",
   "parameters": {},
   "start_time": "2024-06-03T15:19:59.249692",
   "version": "2.5.0"
  }
 },
 "nbformat": 4,
 "nbformat_minor": 5
}
